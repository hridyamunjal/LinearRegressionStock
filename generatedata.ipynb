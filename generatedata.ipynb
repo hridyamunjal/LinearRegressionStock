import pandas as pd
import numpy as np

# Set the number of rows
num_rows = 100

# Generate random data for the Date, Close price, and Volume
dates = pd.date_range(start='2022-01-01', periods=num_rows)
close_prices = np.random.uniform(low=50, high=150, size=num_rows)
volume = np.random.randint(low=1000, high=5000, size=num_rows)

# Create a DataFrame
data = {'Date': dates, 'Close': close_prices, 'Volume': volume}
df = pd.DataFrame(data)

# Save the DataFrame to a CSV file
df.to_csv('stock_prices.csv', index=False)
